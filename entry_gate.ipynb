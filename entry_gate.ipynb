{
 "cells": [
  {
   "cell_type": "code",
   "execution_count": 47,
   "metadata": {},
   "outputs": [],
   "source": [
    "from ultralytics import YOLO\n",
    "import easyocr\n",
    "import cv2\n",
    "import pandas as pd\n",
    "import time\n",
    "from datetime import datetime"
   ]
  },
  {
   "cell_type": "code",
   "execution_count": 2,
   "metadata": {},
   "outputs": [],
   "source": [
    "npr_model = YOLO('anpr_best.pt')"
   ]
  },
  {
   "cell_type": "code",
   "execution_count": 10,
   "metadata": {},
   "outputs": [
    {
     "name": "stdout",
     "output_type": "stream",
     "text": [
      "\n",
      "image 1/1 e:\\6th semester\\Artificial Neural Networks\\PROJECT\\image_reading_test.jpeg: 256x320 1 Number Plate, 45.6ms\n",
      "Speed: 8.5ms preprocess, 45.6ms inference, 9.6ms postprocess per image at shape (1, 3, 256, 320)\n"
     ]
    }
   ],
   "source": [
    "image = 'image_reading_test.jpeg'\n",
    "results = npr_model.predict(image)"
   ]
  },
  {
   "cell_type": "code",
   "execution_count": 11,
   "metadata": {},
   "outputs": [
    {
     "name": "stdout",
     "output_type": "stream",
     "text": [
      "[[1518.7303466796875, 1802.0206298828125, 2038.082763671875, 2240.0078125]]\n"
     ]
    }
   ],
   "source": [
    "# Extract bounding boxes, classes, names, and confidences\n",
    "boxes = results[0].boxes.xyxy.tolist()\n",
    "classes = results[0].boxes.cls.tolist()\n",
    "names = results[0].names\n",
    "confidences = results[0].boxes.conf.tolist()\n",
    "\n",
    "print(boxes)"
   ]
  },
  {
   "cell_type": "code",
   "execution_count": 36,
   "metadata": {},
   "outputs": [],
   "source": [
    "\n",
    "def extract_number_plate_text(image_path, model):\n",
    "  \"\"\"\n",
    "  Extracts and returns the text from a number plate in an image using YOLOv8 (assumed) detections.\n",
    "\n",
    "  Args:\n",
    "      image_path (str): Path to the image file.\n",
    "\n",
    "  Returns:\n",
    "      str: The recognized text of the number plate, or None if an error occurs.\n",
    "  \"\"\"\n",
    "\n",
    "  try:\n",
    "    # Load the image using OpenCV\n",
    "    image = cv2.imread(image_path)\n",
    "\n",
    "    # Check if image loading was successful\n",
    "    if image is None:\n",
    "      print(f\"Error: Could not read image '{image_path}'.\")\n",
    "      return None\n",
    "\n",
    "    # Assuming \"results\" contains YOLOv8 detections in the expected format\n",
    "    # (Modify this section to integrate with your YOLOv8 model output)\n",
    "    npr_model = YOLO('anpr_best.pt')\n",
    "    results = model.predict(image)\n",
    "    boxes = results[0].boxes.xyxy.tolist()  # Get bounding boxes\n",
    "    reader = easyocr.Reader(['en'], gpu = True)\n",
    "    for bounding_box in boxes:\n",
    "      try:\n",
    "        # Extract coordinates using list indexing\n",
    "        xmin = int(bounding_box[0])\n",
    "        ymin = int(bounding_box[1])\n",
    "        xmax = int(bounding_box[2])\n",
    "        ymax = int(bounding_box[3])\n",
    "        cropped_image = image[ymin:ymax, xmin:xmax]\n",
    "        gray_img = cv2.cvtColor(cropped_image, cv2.COLOR_RGB2GRAY)\n",
    "        # Create easyocr Reader with appropriate language code\n",
    "\n",
    "        # Perform text recognition on the cropped image\n",
    "        results = reader.readtext(gray_img)\n",
    "\n",
    "        for result in results:\n",
    "          text = result[0]\n",
    "          confidence = result[1]\n",
    "          # Return the first recognized text with confidence above a threshold (optional)\n",
    "          if float(confidence) > 0.1:  # Adjust threshold as needed\n",
    "            return text\n",
    "\n",
    "      except (IndexError, ValueError):\n",
    "        print(f\"Error processing bounding box: {bounding_box}\")\n",
    "\n",
    "  except (AttributeError, IndexError):\n",
    "    print(\"Error: Could not access bounding boxes from YOLOv8 output.\")\n",
    "\n",
    "  return None  # Return None if no text is recognized or an error occurs\n"
   ]
  },
  {
   "cell_type": "code",
   "execution_count": 39,
   "metadata": {},
   "outputs": [
    {
     "name": "stdout",
     "output_type": "stream",
     "text": [
      "\n",
      "0: 224x320 1 Number Plate, 107.4ms\n",
      "Speed: 0.0ms preprocess, 107.4ms inference, 27.2ms postprocess per image at shape (1, 3, 224, 320)\n",
      "Number plate text: [[1, 3], [29, 3], [29, 17], [1, 17]]\n"
     ]
    }
   ],
   "source": [
    "# Assuming you have your YOLOv8 model integrated\n",
    "image_path = '01413.jpg'  # Replace with your image path\n",
    "recognized_text = extract_number_plate_text(image_path, npr_model)\n",
    "\n",
    "if recognized_text:\n",
    "  print(f\"Number plate text: {recognized_text}\")\n",
    "else:\n",
    "  print(\"No number plate text recognized.\")"
   ]
  },
  {
   "cell_type": "code",
   "execution_count": 40,
   "metadata": {},
   "outputs": [
    {
     "name": "stdout",
     "output_type": "stream",
     "text": [
      "\n",
      "0: 224x320 1 Number Plate, 18.9ms\n",
      "Speed: 0.0ms preprocess, 18.9ms inference, 8.4ms postprocess per image at shape (1, 3, 224, 320)\n",
      "NP: 4453\n"
     ]
    }
   ],
   "source": [
    "reader = easyocr.Reader(['en'], gpu=True)\n",
    "img = cv2.imread(\"01413.jpg\")\n",
    "results = npr_model(img)\n",
    "boxes = results[0].boxes.xyxy.tolist()\n",
    "classes = results[0].boxes.cls.tolist()\n",
    "names = results[0].names\n",
    "confidences = results[0].boxes.conf.tolist()\n",
    "\n",
    "def perform_ocr_on_image(img, coordinates):\n",
    "    x, y, w, h = map(int, coordinates)\n",
    "    cropped_img = img[y:h, x:w]\n",
    "\n",
    "    gray_img = cv2.cvtColor(cropped_img, cv2.COLOR_RGB2GRAY)\n",
    "    results = reader.readtext(gray_img)\n",
    "\n",
    "    text = \"\"\n",
    "    for res in results:\n",
    "        if len(results) == 1 or (len(res[1]) > 6 and res[2] > 0.2):\n",
    "            text = res[1]\n",
    "\n",
    "    return str(text)\n",
    "\n",
    "\n",
    "text = perform_ocr_on_image(img, boxes[0])\n",
    "print(\"NP:\", text)\n"
   ]
  },
  {
   "cell_type": "code",
   "execution_count": 58,
   "metadata": {},
   "outputs": [
    {
     "name": "stdout",
     "output_type": "stream",
     "text": [
      "{'License Plate': ['ABC123', 'DEF456'], 'Timestamp': ['2024-05-07 16:38:47', '2024-05-07 16:38:47']}\n"
     ]
    }
   ],
   "source": [
    "# Create an empty DataFrame with columns 'Text' and 'Timestamp' if it doesn't exist\n",
    "from datetime import datetime\n",
    "\n",
    "def add_entry(entry_dict, license_plate):\n",
    "\n",
    "  timestamp = datetime.now().strftime('%Y-%m-%d %H:%M:%S')\n",
    "  entry_dict['License Plate'].append(license_plate)\n",
    "  entry_dict['Timestamp'].append(timestamp)\n",
    "\n",
    "# Example usage\n",
    "entry_dict = {'License Plate': [], 'Timestamp': []}\n",
    "add_entry(entry_dict, \"ABC123\")\n",
    "add_entry(entry_dict, \"DEF456\")\n",
    "\n",
    "print(entry_dict)\n",
    "\n"
   ]
  },
  {
   "cell_type": "code",
   "execution_count": 60,
   "metadata": {},
   "outputs": [
    {
     "data": {
      "text/html": [
       "<div>\n",
       "<style scoped>\n",
       "    .dataframe tbody tr th:only-of-type {\n",
       "        vertical-align: middle;\n",
       "    }\n",
       "\n",
       "    .dataframe tbody tr th {\n",
       "        vertical-align: top;\n",
       "    }\n",
       "\n",
       "    .dataframe thead th {\n",
       "        text-align: right;\n",
       "    }\n",
       "</style>\n",
       "<table border=\"1\" class=\"dataframe\">\n",
       "  <thead>\n",
       "    <tr style=\"text-align: right;\">\n",
       "      <th></th>\n",
       "      <th>License Plate</th>\n",
       "      <th>Timestamp</th>\n",
       "    </tr>\n",
       "  </thead>\n",
       "  <tbody>\n",
       "    <tr>\n",
       "      <th>0</th>\n",
       "      <td>ABC123</td>\n",
       "      <td>2024-05-07 16:38:47</td>\n",
       "    </tr>\n",
       "    <tr>\n",
       "      <th>1</th>\n",
       "      <td>DEF456</td>\n",
       "      <td>2024-05-07 16:38:47</td>\n",
       "    </tr>\n",
       "  </tbody>\n",
       "</table>\n",
       "</div>"
      ],
      "text/plain": [
       "  License Plate            Timestamp\n",
       "0        ABC123  2024-05-07 16:38:47\n",
       "1        DEF456  2024-05-07 16:38:47"
      ]
     },
     "execution_count": 60,
     "metadata": {},
     "output_type": "execute_result"
    }
   ],
   "source": [
    "# Create a DataFrame from the dictionary\n",
    "df = pd.DataFrame(entry_dict)\n",
    "df"
   ]
  },
  {
   "cell_type": "code",
   "execution_count": null,
   "metadata": {},
   "outputs": [],
   "source": [
    "from datetime import datetime\n",
    "import pandas as pd\n",
    "\n",
    "def add_entry(entry_gate_df, license_plate):\n",
    "  \"\"\"Adds a new entry with the given license plate and current timestamp to the DataFrame.\n",
    "\n",
    "  Args:\n",
    "      entry_gate_df: The DataFrame for storing entry gate data.\n",
    "      license_plate: The license plate for the new entry.\n",
    "  \"\"\"\n",
    "  timestamp = datetime.now().strftime('%Y-%m-%d %H:%M:%S')\n",
    "  new_entry = {'License Plate': license_plate, 'Timestamp': timestamp}\n",
    "  entry_gate_df = entry_gate_df.append(new_entry, ignore_index=True)  # Add entry to DataFrame\n",
    "\n",
    "  # Try to read existing data from Excel (avoid overwriting on first run)\n",
    "  try:\n",
    "    existing_data = pd.read_excel(\"entry_gate_data.xlsx\")\n",
    "    entry_gate_df = entry_gate_df.append(existing_data, ignore_index=True)  # Combine existing and new data\n",
    "  except FileNotFoundError:\n",
    "    pass  # Ignore error on first run, new file will be created\n",
    "\n",
    "  # Save DataFrame to Excel\n",
    "  entry_gate_df.to_excel(\"entry_gate_data.xlsx\", index=False)\n",
    "\n",
    "\n",
    "# Example usage\n",
    "entry_gate_df = pd.DataFrame(columns=['License Plate', 'Timestamp'])  # Initialize empty DataFrame\n",
    "add_entry(entry_gate_df, \"ABC123\")\n",
    "\n",
    "# Simulate reading more license plates (replace with your actual reading logic)\n",
    "# ...\n",
    "\n"
   ]
  }
 ],
 "metadata": {
  "kernelspec": {
   "display_name": "Python 3",
   "language": "python",
   "name": "python3"
  },
  "language_info": {
   "codemirror_mode": {
    "name": "ipython",
    "version": 3
   },
   "file_extension": ".py",
   "mimetype": "text/x-python",
   "name": "python",
   "nbconvert_exporter": "python",
   "pygments_lexer": "ipython3",
   "version": "3.11.9"
  }
 },
 "nbformat": 4,
 "nbformat_minor": 2
}
