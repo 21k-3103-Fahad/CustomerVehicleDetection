{
 "cells": [
  {
   "cell_type": "code",
   "execution_count": 1,
   "metadata": {},
   "outputs": [],
   "source": [
    "import easyocr\n",
    "import cv2\n",
    "from ultralytics import YOLO "
   ]
  },
  {
   "cell_type": "code",
   "execution_count": 4,
   "metadata": {},
   "outputs": [
    {
     "name": "stdout",
     "output_type": "stream",
     "text": [
      "\n",
      "0: 224x320 1 Number Plate, 16.1ms\n",
      "Speed: 9.9ms preprocess, 16.1ms inference, 3.0ms postprocess per image at shape (1, 3, 224, 320)\n",
      "NP: 4453\n"
     ]
    }
   ],
   "source": [
    "reader = easyocr.Reader(['en'], gpu=True)\n",
    "img = cv2.imread(\"7602.jpg\")\n",
    "npr_model = YOLO('anpr_best.pt')\n",
    "results = npr_model(img)\n",
    "boxes = results[0].boxes.xyxy.tolist()\n",
    "classes = results[0].boxes.cls.tolist()\n",
    "names = results[0].names\n",
    "confidences = results[0].boxes.conf.tolist()\n",
    "\n",
    "def perform_ocr_on_image(img, coordinates):\n",
    "    x, y, w, h = map(int, coordinates)\n",
    "    cropped_img = img[y:h, x:w]\n",
    "\n",
    "    gray_img = cv2.cvtColor(cropped_img, cv2.COLOR_RGB2GRAY)\n",
    "    results = reader.readtext(gray_img)\n",
    "\n",
    "    text = \"\"\n",
    "    for res in results:\n",
    "        if len(results) == 1 or (len(res[1]) > 6 and res[2] > 0.2):\n",
    "            text = res[1]\n",
    "\n",
    "    return str(text)\n",
    "\n",
    "\n",
    "text = perform_ocr_on_image(img, boxes[0])\n",
    "print(\"NP:\", text)"
   ]
  }
 ],
 "metadata": {
  "kernelspec": {
   "display_name": "Python 3",
   "language": "python",
   "name": "python3"
  },
  "language_info": {
   "codemirror_mode": {
    "name": "ipython",
    "version": 3
   },
   "file_extension": ".py",
   "mimetype": "text/x-python",
   "name": "python",
   "nbconvert_exporter": "python",
   "pygments_lexer": "ipython3",
   "version": "3.11.9"
  }
 },
 "nbformat": 4,
 "nbformat_minor": 2
}
